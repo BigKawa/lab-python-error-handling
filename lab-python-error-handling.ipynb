{
 "cells": [
  {
   "cell_type": "markdown",
   "id": "25d7736c-ba17-4aff-b6bb-66eba20fbf4e",
   "metadata": {},
   "source": [
    "# Lab | Error Handling"
   ]
  },
  {
   "cell_type": "markdown",
   "id": "bc99b386-7508-47a0-bcdb-d969deaf6c8b",
   "metadata": {},
   "source": [
    "## Exercise: Error Handling for Managing Customer Orders\n",
    "\n",
    "The implementation of your code for managing customer orders assumes that the user will always enter a valid input. \n",
    "\n",
    "For example, we could modify the `initialize_inventory` function to include error handling.\n",
    "   - If the user enters an invalid quantity (e.g., a negative value or a non-numeric value), display an error message and ask them to re-enter the quantity for that product.\n",
    "   - Use a try-except block to handle the error and continue prompting the user until a valid quantity is entered.\n",
    "\n",
    "```python\n",
    "# Step 1: Define the function for initializing the inventory with error handling\n",
    "def initialize_inventory(products):\n",
    "    inventory = {}\n",
    "    for product in products:\n",
    "        valid_quantity = False\n",
    "        while not valid_quantity:\n",
    "            try:\n",
    "                quantity = int(input(f\"Enter the quantity of {product}s available: \"))\n",
    "                if quantity < 0:\n",
    "                    raise ValueError(\"Invalid quantity! Please enter a non-negative value.\")\n",
    "                valid_quantity = True\n",
    "            except ValueError as error:\n",
    "                print(f\"Error: {error}\")\n",
    "        inventory[product] = quantity\n",
    "    return inventory\n",
    "\n",
    "# Or, in another way:\n",
    "\n",
    "def initialize_inventory(products):\n",
    "    inventory = {}\n",
    "    for product in products:\n",
    "        valid_input = False\n",
    "        while not valid_input:\n",
    "            try:\n",
    "                quantity = int(input(f\"Enter the quantity of {product}s available: \"))\n",
    "                if quantity >= 0:\n",
    "                    inventory[product] = quantity\n",
    "                    valid_input = True\n",
    "                else:\n",
    "                    print(\"Quantity cannot be negative. Please enter a valid quantity.\")\n",
    "            except ValueError:\n",
    "                print(\"Invalid input. Please enter a valid quantity.\")\n",
    "    return inventory\n",
    "```\n",
    "\n",
    "Let's enhance your code by implementing error handling to handle invalid inputs.\n",
    "\n",
    "Follow the steps below to complete the exercise:\n",
    "\n",
    "2. Modify the `calculate_total_price` function to include error handling.\n",
    "   - If the user enters an invalid price (e.g., a negative value or a non-numeric value), display an error message and ask them to re-enter the price for that product.\n",
    "   - Use a try-except block to handle the error and continue prompting the user until a valid price is entered.\n",
    "\n",
    "3. Modify the `get_customer_orders` function to include error handling.\n",
    "   - If the user enters an invalid number of orders (e.g., a negative value or a non-numeric value), display an error message and ask them to re-enter the number of orders.\n",
    "   - If the user enters an invalid product name (e.g., a product name that is not in the inventory), or that doesn't have stock available, display an error message and ask them to re-enter the product name. *Hint: you will need to pass inventory as a parameter*\n",
    "   - Use a try-except block to handle the error and continue prompting the user until a valid product name is entered.\n",
    "\n",
    "4. Test your code by running the program and deliberately entering invalid quantities and product names. Make sure the error handling mechanism works as expected.\n"
   ]
  },
  {
   "cell_type": "code",
   "execution_count": 97,
   "id": "75facf11-7f35-4d29-891f-2064f9ad8bab",
   "metadata": {},
   "outputs": [],
   "source": [
    "products = [\"t-shirt\", \"mug\", \"hat\", \"book\", \"keychain\"]"
   ]
  },
  {
   "cell_type": "code",
   "execution_count": 118,
   "id": "b57771ad-5a6f-413d-907b-17dec1227bab",
   "metadata": {},
   "outputs": [],
   "source": [
    "# Step 1: Define the function for initializing the inventory with error handling\n",
    "def initialize_inventory(products):\n",
    "    inventory = {}\n",
    "    for product in products:\n",
    "        valid_quantity = False\n",
    "        while not valid_quantity:\n",
    "            try:\n",
    "                quantity = int(input(f\"Enter the quantity of {product}s available: \"))\n",
    "                if quantity < 0:\n",
    "                    raise ValueError(\"Invalid quantity! Please enter a non-negative value.\")\n",
    "                valid_quantity = True\n",
    "            except ValueError as error:\n",
    "                print(f\"Error: {error}\")\n",
    "        inventory[product] = quantity\n",
    "    return inventory"
   ]
  },
  {
   "cell_type": "code",
   "execution_count": 120,
   "id": "835bb61c-93b5-4c44-b4d5-2a0f0318433a",
   "metadata": {},
   "outputs": [],
   "source": [
    "def initialize_inventory(products):\n",
    "    inventory = {product:int(input(F\"What is the quantity of {product}\")) for product in products}  # dict comp. to assign quantity to inventory\n",
    "    \n",
    "    return inventory\n"
   ]
  },
  {
   "cell_type": "code",
   "execution_count": 122,
   "id": "9738ed1f-49c7-4ffe-a95b-499fb72971ca",
   "metadata": {},
   "outputs": [],
   "source": [
    "def initialize_price(c_orders):\n",
    "    price_dict = {}\n",
    "    for prod in c_orders:\n",
    "        valid_price = False\n",
    "        while not valid_price:\n",
    "            try:\n",
    "                price_dict.update({prod:int(input(F\"Enter the price of {prod}: \"))})\n",
    "                if quantity < 0:\n",
    "                    raise ValueError(\"Invalid! Please enter a non negative value\")\n",
    "                valid_price = True\n",
    "            except ValueError as error:\n",
    "                print(F\"Error: {error}\")\n",
    "   \n",
    "    return price_dict\n"
   ]
  },
  {
   "cell_type": "markdown",
   "id": "6fce09e3-a07d-4441-a877-eb19823e81a3",
   "metadata": {},
   "source": [
    "def initialize_price(c_orders):\n",
    "    price_dict = {product:int(input(F\"Enter the price of {product}: \")) for product in c_orders}  # dict comp. to assign quantity to inventory\n",
    "    \n",
    "    return price_dict\n"
   ]
  },
  {
   "cell_type": "code",
   "execution_count": 125,
   "id": "4168b216-df55-4d69-b63e-561d8c99ec13",
   "metadata": {},
   "outputs": [],
   "source": [
    "def get_customer_orders(products):#  Get Orders of the Customer\n",
    "    valid_order_amount = False\n",
    "    valid_customer_order = False\n",
    "    while not valid_order_amount:\n",
    "        try: \n",
    "            amount_orders = int(input(\"How many orders do you want to make?: \"))\n",
    "            if amount_orders < 0:\n",
    "                raise ValueError(\"Invalid! Please enter a non negative value\")\n",
    "            valid_order_amount = True\n",
    "        except ValueError as error:\n",
    "            print(F\"Error : {error}\")\n",
    "            \n",
    "        \n",
    "    while not valid_customer_order:\n",
    "        try:\n",
    "            customer_orders = {input(F\"What do you want to order something from {products} ?\") for _ in range(amount_orders)}\n",
    "            if customer_oders < 0:\n",
    "                raise ValueError(\"Invalid! Please enter a non negative value\")\n",
    "            valid_customer_order = True\n",
    "        except ValueError as error:\n",
    "            print(F\"Error: {error}\")\n",
    "    return customer_orders"
   ]
  },
  {
   "cell_type": "code",
   "execution_count": 127,
   "id": "4ed9ef15-55c4-48b2-9417-4375eb374f7f",
   "metadata": {},
   "outputs": [],
   "source": [
    "# customer = get_customer_orders(products)\n",
    "# customer #  Test if its wortking"
   ]
  },
  {
   "cell_type": "code",
   "execution_count": 129,
   "id": "a05566e8-c2f2-464f-a310-60275d69f029",
   "metadata": {},
   "outputs": [],
   "source": [
    "def update_inventory(orders, inventory): # updating inventory and returning new inventory\n",
    "    for x in orders:\n",
    "        if x in inventory:\n",
    "            inventory[x] -= 1\n",
    "            if inventory[x] == 0: # Dropping empty inventory\n",
    "                del inventory[x]   \n",
    "    return inventory"
   ]
  },
  {
   "cell_type": "code",
   "execution_count": 131,
   "id": "63b50659-9fd4-4b27-bfae-218aafc3259a",
   "metadata": {},
   "outputs": [],
   "source": [
    "def update_inventory(orders, inventory):\n",
    "    new_inventory = {product:(quantity-1 if product in orders else quantity) for product,quantity in inventory.items()} \n",
    "    new_inventory = {product:quantity for product, quantity in new_inventory.items() if quantity > 0} #  drop quantity which hit 0 \n",
    "    return new_inventory"
   ]
  },
  {
   "cell_type": "code",
   "execution_count": 133,
   "id": "22a88d5f-97b1-4efa-a907-469c205adb69",
   "metadata": {},
   "outputs": [],
   "source": [
    "\n",
    "def calculate_order_statistics(orders, products):\n",
    "    total_products_ordered = len(orders) # Counting orders of arg: \"order\"\n",
    "    total_unique_products = len(products)\n",
    "    percentage = total_products_ordered/total_unique_products*100\n",
    "    return total_products_ordered, total_unique_products, percentage\n",
    "\n",
    "def print_order_statistic(statistic):\n",
    "    print(F\" Total Products Ordered : {statistic[0]}\")\n",
    "    print(F\" Percentage of unique Products Ordered : {statistic[2]} %\")\n",
    "\n",
    "def print_updatet_inventory(inventory):\n",
    "    print(F\"New inventory:\")\n",
    "    for key in inventory:\n",
    "        print(F\"{key} : {inventory[key]}\")\n",
    "\n",
    "def calculate_total(pricelist):\n",
    "    total = sum(pricelist.values())\n",
    "    print(F\"Total price: {total}\")\n",
    "    # return total"
   ]
  },
  {
   "cell_type": "code",
   "execution_count": 137,
   "id": "537b4107-abce-48c2-8005-6217e40699bf",
   "metadata": {},
   "outputs": [
    {
     "name": "stdin",
     "output_type": "stream",
     "text": [
      "What is the quantity of t-shirt 2\n",
      "What is the quantity of mug 3\n",
      "What is the quantity of hat 4\n",
      "What is the quantity of book -1\n",
      "What is the quantity of keychain -1\n"
     ]
    }
   ],
   "source": [
    "inventory = initialize_inventory(products)  # Calling initialize Inventory and assigning Amounts"
   ]
  },
  {
   "cell_type": "code",
   "execution_count": 44,
   "id": "cf08b4f3-8ebf-4887-afe1-c018251b9e02",
   "metadata": {},
   "outputs": [
    {
     "name": "stdin",
     "output_type": "stream",
     "text": [
      "How many orders do you want to make?:  2\n",
      "What do you want to order something from ['t-shirt', 'mug', 'hat', 'book', 'keychain'] ? mug\n",
      "What do you want to order something from ['t-shirt', 'mug', 'hat', 'book', 'keychain'] ? hat\n"
     ]
    }
   ],
   "source": [
    "customer_oders = get_customer_orders(products) # calling get orders and saving into a variable"
   ]
  },
  {
   "cell_type": "code",
   "execution_count": 46,
   "id": "7a9e19b1-66e3-4c38-ab2f-a59e1144c793",
   "metadata": {},
   "outputs": [
    {
     "data": {
      "text/plain": [
       "{'t-shirt': 4, 'mug': 4, 'hat': 4, 'book': 4, 'keychain': 4}"
      ]
     },
     "execution_count": 46,
     "metadata": {},
     "output_type": "execute_result"
    }
   ],
   "source": [
    "inventory"
   ]
  },
  {
   "cell_type": "code",
   "execution_count": 52,
   "id": "953b8f95-b3ef-4556-9bff-ee9da7ad929e",
   "metadata": {},
   "outputs": [],
   "source": [
    "inventory = update_inventory(customer_oders, inventory) # Calling new inventory and overwriting in the old variable"
   ]
  },
  {
   "cell_type": "code",
   "execution_count": 54,
   "id": "72f50f96-08e0-4ace-a924-b1a3e36d66b0",
   "metadata": {},
   "outputs": [],
   "source": [
    "order_statistic = calculate_order_statistics(customer_oders, inventory) # Create a order Statistic as a tuple"
   ]
  },
  {
   "cell_type": "code",
   "execution_count": 56,
   "id": "522201a2-086e-43de-ac8d-818a2f0dee66",
   "metadata": {},
   "outputs": [
    {
     "name": "stdout",
     "output_type": "stream",
     "text": [
      " Total Products Ordered : 2\n",
      " Percentage of unique Products Ordered : 40.0 %\n"
     ]
    }
   ],
   "source": [
    "print_order_statistic(order_statistic) # Print statistic"
   ]
  },
  {
   "cell_type": "code",
   "execution_count": 58,
   "id": "1fac8560-eeb7-4442-85b2-a9bc58a4e8f6",
   "metadata": {},
   "outputs": [
    {
     "name": "stdout",
     "output_type": "stream",
     "text": [
      "New inventory:\n",
      "t-shirt : 4\n",
      "mug : 3\n",
      "hat : 3\n",
      "book : 4\n",
      "keychain : 4\n"
     ]
    }
   ],
   "source": [
    "print_updatet_inventory(inventory) # Print updatet inventory"
   ]
  },
  {
   "cell_type": "code",
   "execution_count": 79,
   "id": "d1ff0824-9d9c-4b46-87c0-80ffedaf46bf",
   "metadata": {},
   "outputs": [
    {
     "name": "stdin",
     "output_type": "stream",
     "text": [
      "Enter the price of hat:  2\n",
      "Enter the price of mug:  3\n"
     ]
    },
    {
     "name": "stdout",
     "output_type": "stream",
     "text": [
      "Total price: 5\n"
     ]
    }
   ],
   "source": [
    "calculate_total(initialize_price(customer_oders)) # Calling Initialize Price from Customer Orders - Sacrifices readability..."
   ]
  },
  {
   "cell_type": "code",
   "execution_count": null,
   "id": "607bab8f-c712-4c09-95d6-cca25c5b9aec",
   "metadata": {},
   "outputs": [],
   "source": [
    "inventory"
   ]
  },
  {
   "cell_type": "code",
   "execution_count": null,
   "id": "53e48355-57d4-443a-a325-2afd14902f8d",
   "metadata": {},
   "outputs": [],
   "source": []
  }
 ],
 "metadata": {
  "kernelspec": {
   "display_name": "Python 3 (ipykernel)",
   "language": "python",
   "name": "python3"
  },
  "language_info": {
   "codemirror_mode": {
    "name": "ipython",
    "version": 3
   },
   "file_extension": ".py",
   "mimetype": "text/x-python",
   "name": "python",
   "nbconvert_exporter": "python",
   "pygments_lexer": "ipython3",
   "version": "3.12.4"
  }
 },
 "nbformat": 4,
 "nbformat_minor": 5
}
